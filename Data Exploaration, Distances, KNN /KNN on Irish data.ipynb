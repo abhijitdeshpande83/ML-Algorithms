{
 "cells": [
  {
   "cell_type": "code",
   "execution_count": 724,
   "id": "adjacent-james",
   "metadata": {},
   "outputs": [],
   "source": [
    "import numpy as np\n",
    "import pandas as pd\n",
    "import matplotlib.pyplot as plt\n",
    "import seaborn as sns\n",
    "%matplotlib inline"
   ]
  },
  {
   "cell_type": "code",
   "execution_count": 725,
   "id": "mature-dispatch",
   "metadata": {},
   "outputs": [],
   "source": [
    "from sklearn.datasets import load_iris\n",
    "data = load_iris()"
   ]
  },
  {
   "cell_type": "code",
   "execution_count": 726,
   "id": "honest-sunrise",
   "metadata": {},
   "outputs": [],
   "source": [
    "x = pd.DataFrame(data.data,columns=data.feature_names)\n",
    "y = pd.DataFrame(data.target)"
   ]
  },
  {
   "cell_type": "markdown",
   "id": "urban-america",
   "metadata": {},
   "source": [
    "## Problem 1"
   ]
  },
  {
   "cell_type": "code",
   "execution_count": 727,
   "id": "spatial-welding",
   "metadata": {},
   "outputs": [],
   "source": [
    "import numpy as np\n",
    "from collections import Counter\n",
    "\n",
    "\n",
    "def minkowski_distance(vector_a, vector_b, r=1):\n",
    "    return (np.sum(abs(vector_a-vector_b)**r))**(1/r)\n",
    "\n",
    "\n",
    "class KNN():\n",
    "\n",
    "    def __init__(self,k=3,r=1):\n",
    "        self.k = k\n",
    "        self.r = r\n",
    "\n",
    "    def fit(self, X, y):\n",
    "        self.X_train = X.values\n",
    "        self.y_train = y.values\n",
    "\n",
    "    def predict(self, X):\n",
    "        y_pred = np.array([self._predict(x) for x in X.values])\n",
    "        output = y_pred.reshape(y_pred.shape[0],y_pred.shape[1]).tolist()\n",
    "        predict=[]\n",
    "        for i in range(len(output)):\n",
    "            prediction=max(set(output[i]),key=output.count)\n",
    "            predict.append(prediction)\n",
    "        prediction = np.array(predict)\n",
    "        return prediction\n",
    "    def _predict(self, x):\n",
    "        # Compute distances between x and all examples in the training set\n",
    "        distances = [minkowski_distance(x, x_train, self.r) for x_train in self.X_train]\n",
    "        # Sort by distance and return indices of the first k neighbors\n",
    "        k_idx = np.argsort(distances)[:self.k]\n",
    "        # Extract the labels of the k nearest neighbor training samples\n",
    "        k_neighbor_labels = [self.y_train[i] for i in k_idx]\n",
    "        # return the most common class label\n",
    "        return k_neighbor_labels\n",
    "    \n",
    "    def accuracy_score(self,y_test,predicted):\n",
    "        correct=0\n",
    "        actual = np.array(y_test)\n",
    "        for i in range(len(actual)):\n",
    "            if actual[i]==predicted[i]:\n",
    "                correct+=1\n",
    "        return correct/len(predicted)*100\n",
    "        "
   ]
  },
  {
   "cell_type": "markdown",
   "id": "partial-print",
   "metadata": {},
   "source": [
    "## Problem 2"
   ]
  },
  {
   "cell_type": "code",
   "execution_count": 824,
   "id": "gross-violin",
   "metadata": {},
   "outputs": [],
   "source": [
    "def traing_set(x,y):\n",
    "    set_1, label_1 = x[:40],y[:40]\n",
    "    set_2, label_2 = x[50:90], y[50:90]\n",
    "    set_3, label_3 = x[100:140], y[100:140]\n",
    "    features = pd.concat([set_1,set_2,set_3],axis=0)\n",
    "    labels = pd.concat([label_1,label_2,label_3],axis=0)\n",
    "    return features, labels\n",
    "\n",
    "\n",
    "def testing_set(x,y):\n",
    "    set_1, label_1 = x[40:50],y[40:50]\n",
    "    set_2, label_2 = x[90:100], y[90:100]\n",
    "    set_3, label_3 = x[140:150], y[140:150]\n",
    "    features = pd.concat([set_1,set_2,set_3],axis=0)\n",
    "    labels = pd.concat([label_1,label_2,label_3],axis=0)\n",
    "    return features, labels\n",
    "\n",
    "x_train, y_train = traing_set(x,y)\n",
    "x_test, y_test = testing_set(x,y)"
   ]
  },
  {
   "cell_type": "code",
   "execution_count": 836,
   "id": "lesbian-thumb",
   "metadata": {},
   "outputs": [],
   "source": [
    "#for setosa\n",
    "x_train_1, y_train_1 = x[:40],y[:40]\n",
    "x_test_1, y_test_1 = x[40:50],y[40:50]\n",
    "\n",
    "#for versicolor\n",
    "x_train_2, y_train_2 = x[50:90], y[50:90]\n",
    "x_test_2, y_test_2 = x[90:100], y[90:100]\n",
    "\n",
    "#for virginica\n",
    "x_train_3, y_train_3 = x[100:140], y[100:140]\n",
    "x_test_3, y_test_3 = x[140:150], y[140:150]"
   ]
  },
  {
   "cell_type": "code",
   "execution_count": null,
   "id": "photographic-inventory",
   "metadata": {},
   "outputs": [],
   "source": []
  },
  {
   "cell_type": "code",
   "execution_count": 857,
   "id": "swedish-walter",
   "metadata": {},
   "outputs": [
    {
     "data": {
      "text/plain": [
       "100.0"
      ]
     },
     "execution_count": 857,
     "metadata": {},
     "output_type": "execute_result"
    }
   ],
   "source": [
    "knn = KNN(k=7,r=1)\n",
    "knn.fit(x_train_3,y_train_3)\n",
    "predict = knn.predict(x_test_3)\n",
    "knn.accuracy_score(y_test_3,predict)"
   ]
  },
  {
   "cell_type": "code",
   "execution_count": 780,
   "id": "commercial-coating",
   "metadata": {},
   "outputs": [],
   "source": [
    "from sklearn.metrics import classification_report, confusion_matrix\n",
    "import itertools\n",
    "def plot_confusion_matrix(cm, classes,\n",
    "                          normalize=False,\n",
    "                          title='Confusion matrix',\n",
    "                          cmap=plt.cm.Blues):\n",
    "    \"\"\"\n",
    "    This function prints and plots the confusion matrix.\n",
    "    Normalization can be applied by setting `normalize=True`.\n",
    "    \"\"\"\n",
    "    if normalize:\n",
    "        cm = cm.astype('float') / cm.sum(axis=1)[:, np.newaxis]\n",
    "        print(\"Normalized confusion matrix\")\n",
    "    else:\n",
    "        print('Confusion matrix, without normalization')\n",
    "\n",
    "    print(cm)\n",
    "\n",
    "    plt.imshow(cm, interpolation='nearest', cmap='crest')\n",
    "    plt.title(title)\n",
    "    plt.colorbar()\n",
    "    tick_marks = np.arange(len(classes))\n",
    "    plt.xticks(tick_marks, classes, rotation=45)\n",
    "    plt.yticks(tick_marks, classes)\n",
    "\n",
    "    fmt = '.2f' if normalize else 'd'\n",
    "    thresh = cm.max() / 2.\n",
    "    for i, j in itertools.product(range(cm.shape[0]), range(cm.shape[1])):\n",
    "        plt.text(j, i, format(cm[i, j], fmt),\n",
    "                 horizontalalignment=\"center\",\n",
    "                 color=\"white\" if cm[i, j] > thresh else \"black\")\n",
    "\n",
    "    plt.tight_layout()\n",
    "    plt.ylabel('True label')\n",
    "    plt.xlabel('Predicted label')"
   ]
  },
  {
   "cell_type": "code",
   "execution_count": 799,
   "id": "prostate-fellow",
   "metadata": {},
   "outputs": [
    {
     "data": {
      "text/plain": [
       "86.66666666666667"
      ]
     },
     "execution_count": 799,
     "metadata": {},
     "output_type": "execute_result"
    }
   ],
   "source": [
    "knn = KNN(k=7,r=4)\n",
    "knn.fit(x_train,y_train)\n",
    "prediction = knn.predict(x_test)\n",
    "knn.accuracy_score(y_test,predict)"
   ]
  },
  {
   "cell_type": "code",
   "execution_count": 800,
   "id": "burning-driving",
   "metadata": {},
   "outputs": [
    {
     "name": "stdout",
     "output_type": "stream",
     "text": [
      "Confusion matrix, without normalization\n",
      "[[10  0  0]\n",
      " [ 0 10  0]\n",
      " [ 0  4  6]]\n"
     ]
    },
    {
     "data": {
      "image/png": "[encoded data removed]",
      "text/plain": [
       "<Figure size 432x288 with 2 Axes>"
      ]
     },
     "metadata": {
      "needs_background": "light"
     },
     "output_type": "display_data"
    }
   ],
   "source": [
    "cm = confusion_matrix(y_test,prediction)\n",
    "plot_confusion_matrix(cm,classes=['setosa', 'versicolor', 'virginica'])"
   ]
  },
  {
   "cell_type": "markdown",
   "id": "sudden-instrument",
   "metadata": {},
   "source": [
    "## Problem 3"
   ]
  },
  {
   "cell_type": "code",
   "execution_count": 801,
   "id": "overall-representation",
   "metadata": {},
   "outputs": [
    {
     "name": "stdout",
     "output_type": "stream",
     "text": [
      "    Accuaracy  k  r\n",
      "0   90.000000  3  1\n",
      "1  100.000000  3  2\n",
      "2  100.000000  3  4\n",
      "3   86.666667  5  1\n",
      "4   90.000000  5  2\n",
      "5   90.000000  5  4\n",
      "6   80.000000  7  1\n",
      "7   83.333333  7  2\n",
      "8   86.666667  7  4\n"
     ]
    }
   ],
   "source": [
    "#calculating accuracies for different k\n",
    "acc=[]\n",
    "range_for_k = [3,5,7]\n",
    "range_of_r = [1,2,4]\n",
    "for k in range_for_k:\n",
    "    for r in range_of_r:\n",
    "        knn = KNN(k=k, r=r)\n",
    "        knn.fit(x_train,y_train)\n",
    "        prediction = knn.predict(x_test)\n",
    "        accu=knn.accuracy_score(y_test,prediction)\n",
    "        acc.append({'Accuaracy':accu,'k':k,'r':r})\n",
    "print(pd.DataFrame(acc))"
   ]
  },
  {
   "cell_type": "markdown",
   "id": "fluid-treasurer",
   "metadata": {},
   "source": [
    "## Problem 4"
   ]
  },
  {
   "cell_type": "code",
   "execution_count": 806,
   "id": "neither-owner",
   "metadata": {},
   "outputs": [],
   "source": [
    "df = x[50:]\n",
    "y_ = y[50:]"
   ]
  },
  {
   "cell_type": "code",
   "execution_count": 807,
   "id": "framed-sacramento",
   "metadata": {},
   "outputs": [],
   "source": [
    "def decision_boundry(data):\n",
    "    decision = []\n",
    "    for i in range(100):\n",
    "        if (data[['petal length (cm)']].iloc[i].values> 4.8 and data[['petal width (cm)']].iloc[i].values>1.7):\n",
    "            decision.append(2) \n",
    "        else: \n",
    "            decision.append(1)\n",
    "    return np.array(decision)"
   ]
  },
  {
   "cell_type": "code",
   "execution_count": 808,
   "id": "continued-herald",
   "metadata": {},
   "outputs": [],
   "source": [
    "prediction = decision_boundry(df)"
   ]
  },
  {
   "cell_type": "code",
   "execution_count": 809,
   "id": "recognized-exhibition",
   "metadata": {},
   "outputs": [],
   "source": [
    " def accuracy_score(y_test,predicted):\n",
    "        correct=0\n",
    "        actual = np.array(y_test)\n",
    "        for i in range(len(actual)):\n",
    "            if actual[i]==predicted[i]:\n",
    "                correct+=1\n",
    "        return correct/len(predicted)*100"
   ]
  },
  {
   "cell_type": "code",
   "execution_count": 810,
   "id": "round-flush",
   "metadata": {},
   "outputs": [
    {
     "data": {
      "text/plain": [
       "93.0"
      ]
     },
     "execution_count": 810,
     "metadata": {},
     "output_type": "execute_result"
    }
   ],
   "source": [
    "accuracy_score(y_,prediction)"
   ]
  },
  {
   "cell_type": "code",
   "execution_count": 814,
   "id": "neural-seating",
   "metadata": {},
   "outputs": [],
   "source": [
    "def sensitivity(y_,pred):\n",
    "    count = 0\n",
    "    y_ = np.array(y_)\n",
    "    pred = np.array(pred)\n",
    "    for i in range(len(pred)):\n",
    "        if pred[i] == 2 & y_[i] == 2:\n",
    "            count+=1\n",
    "    return count/50\n",
    "\n",
    "def specificity(y_,pred):\n",
    "    count = 0\n",
    "    y_ = np.array(y_)\n",
    "    pred = np.array(pred)\n",
    "    for i in range(len(pred)):\n",
    "        if pred[i] == 1 & y_[i] == 1:\n",
    "            count+=1\n",
    "    return count/50"
   ]
  },
  {
   "cell_type": "code",
   "execution_count": 815,
   "id": "elegant-brighton",
   "metadata": {},
   "outputs": [
    {
     "data": {
      "text/plain": [
       "0.86"
      ]
     },
     "execution_count": 815,
     "metadata": {},
     "output_type": "execute_result"
    }
   ],
   "source": [
    "sensitivity(y_,prediction)"
   ]
  },
  {
   "cell_type": "code",
   "execution_count": 816,
   "id": "embedded-beginning",
   "metadata": {},
   "outputs": [
    {
     "data": {
      "text/plain": [
       "1.0"
      ]
     },
     "execution_count": 816,
     "metadata": {},
     "output_type": "execute_result"
    }
   ],
   "source": [
    "specificity(y_,prediction)"
   ]
  },
  {
   "cell_type": "code",
   "execution_count": null,
   "id": "opposite-ticket",
   "metadata": {},
   "outputs": [],
   "source": []
  },
  {
   "cell_type": "code",
   "execution_count": null,
   "id": "continent-forest",
   "metadata": {},
   "outputs": [],
   "source": []
  },
  {
   "cell_type": "code",
   "execution_count": null,
   "id": "exposed-stopping",
   "metadata": {},
   "outputs": [],
   "source": []
  },
  {
   "cell_type": "code",
   "execution_count": null,
   "id": "fabulous-stockholm",
   "metadata": {},
   "outputs": [],
   "source": []
  }
 ],
 "metadata": {
  "kernelspec": {
   "display_name": "Python 3",
   "language": "python",
   "name": "python3"
  },
  "language_info": {
   "codemirror_mode": {
    "name": "ipython",
    "version": 3
   },
   "file_extension": ".py",
   "mimetype": "text/x-python",
   "name": "python",
   "nbconvert_exporter": "python",
   "pygments_lexer": "ipython3",
   "version": "3.7.9"
  }
 },
 "nbformat": 4,
 "nbformat_minor": 5
}
