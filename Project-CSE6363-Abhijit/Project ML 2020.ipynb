{
 "cells": [
  {
   "cell_type": "code",
   "execution_count": 1,
   "metadata": {},
   "outputs": [],
   "source": [
    "import numpy as np\n",
    "import pandas as pd\n",
    "import seaborn as sns\n",
    "import matplotlib.pyplot as plt"
   ]
  },
  {
   "cell_type": "code",
   "execution_count": 2,
   "metadata": {},
   "outputs": [
    {
     "name": "stdout",
     "output_type": "stream",
     "text": [
      "CPU times: user 16.6 s, sys: 2.28 s, total: 18.9 s\n",
      "Wall time: 19.6 s\n"
     ]
    }
   ],
   "source": [
    "%time df=pd.read_csv('US_Accidents_June.csv')"
   ]
  },
  {
   "cell_type": "code",
   "execution_count": 3,
   "metadata": {},
   "outputs": [
    {
     "data": {
      "text/plain": [
       "(3513617, 49)"
      ]
     },
     "execution_count": 3,
     "metadata": {},
     "output_type": "execute_result"
    }
   ],
   "source": [
    "df.shape"
   ]
  },
  {
   "cell_type": "code",
   "execution_count": 4,
   "metadata": {},
   "outputs": [
    {
     "data": {
      "text/plain": [
       "False    26\n",
       "True     23\n",
       "dtype: int64"
      ]
     },
     "execution_count": 4,
     "metadata": {},
     "output_type": "execute_result"
    }
   ],
   "source": [
    "(df.isna().sum()!=0).value_counts()"
   ]
  },
  {
   "cell_type": "code",
   "execution_count": 5,
   "metadata": {},
   "outputs": [],
   "source": [
    "from sklearn.preprocessing import OneHotEncoder\n",
    "from sklearn.compose import make_column_transformer\n",
    "from sklearn.pipeline import make_pipeline\n",
    "from sklearn.linear_model import LogisticRegression"
   ]
  },
  {
   "cell_type": "markdown",
   "metadata": {},
   "source": [
    "### Analysing missing values using heatmap"
   ]
  },
  {
   "cell_type": "code",
   "execution_count": 6,
   "metadata": {},
   "outputs": [],
   "source": [
    "#%time sns.heatmap(df.isnull(),yticklabels=False,cbar=False,cmap='crest')"
   ]
  },
  {
   "cell_type": "markdown",
   "metadata": {},
   "source": [
    "### Visualisation of Data"
   ]
  },
  {
   "cell_type": "code",
   "execution_count": 7,
   "metadata": {},
   "outputs": [
    {
     "data": {
      "text/plain": [
       "<AxesSubplot:xlabel='Severity', ylabel='count'>"
      ]
     },
     "execution_count": 7,
     "metadata": {},
     "output_type": "execute_result"
    },
    {
     "data": {
      "image/png": "[encoded data removed]",
      "text/plain": [
       "<Figure size 432x288 with 1 Axes>"
      ]
     },
     "metadata": {
      "needs_background": "light"
     },
     "output_type": "display_data"
    }
   ],
   "source": [
    "sns.countplot(x='Severity',hue='Sunrise_Sunset',data=df)"
   ]
  },
  {
   "cell_type": "code",
   "execution_count": 8,
   "metadata": {},
   "outputs": [
    {
     "data": {
      "text/plain": [
       "(array([1236961.,  342057.,  369725.,  191469.,  177041.,  538314.,\n",
       "         365310.,  268448.,   17644.,    6648.]),\n",
       " array([ 0. ,  4.8,  9.6, 14.4, 19.2, 24. , 28.8, 33.6, 38.4, 43.2, 48. ]),\n",
       " <BarContainer object of 10 artists>)"
      ]
     },
     "execution_count": 8,
     "metadata": {},
     "output_type": "execute_result"
    },
    {
     "data": {
      "image/png": "[encoded data removed]",
      "text/plain": [
       "<Figure size 576x432 with 1 Axes>"
      ]
     },
     "metadata": {
      "needs_background": "light"
     },
     "output_type": "display_data"
    }
   ],
   "source": [
    "plt.figure(figsize=(8,6))\n",
    "plt.hist(df.State,bins=10)"
   ]
  },
  {
   "cell_type": "markdown",
   "metadata": {},
   "source": [
    "### Dropping Unnecessary Data"
   ]
  },
  {
   "cell_type": "markdown",
   "metadata": {},
   "source": [
    "Civil_Twilight, Nautical_Twilight, Astronomical_Twilight are same as Sunrise_Sunset datavalue so no use in model,\n",
    "End_Lat and End_Lng having 70% missing values so dropping those columns would be better option"
   ]
  },
  {
   "cell_type": "code",
   "execution_count": 9,
   "metadata": {},
   "outputs": [],
   "source": [
    "new_df=df.drop(['ID','Source','Start_Time','End_Time','Number','Country','Civil_Twilight','Weather_Timestamp',\n",
    "       'Nautical_Twilight', 'Astronomical_Twilight','Start_Lat', 'Start_Lng', 'End_Lat', 'End_Lng','Turning_Loop','Description','Street','Street','County','City','Zipcode','Timezone','Airport_Code'],axis=1)"
   ]
  },
  {
   "cell_type": "code",
   "execution_count": 10,
   "metadata": {},
   "outputs": [],
   "source": [
    "columns=new_df.columns"
   ]
  },
  {
   "cell_type": "code",
   "execution_count": 11,
   "metadata": {},
   "outputs": [
    {
     "data": {
      "text/plain": [
       "Index(['TMC', 'Severity', 'Distance(mi)', 'Side', 'State', 'Temperature(F)',\n",
       "       'Wind_Chill(F)', 'Humidity(%)', 'Pressure(in)', 'Visibility(mi)',\n",
       "       'Wind_Direction', 'Wind_Speed(mph)', 'Precipitation(in)',\n",
       "       'Weather_Condition', 'Amenity', 'Bump', 'Crossing', 'Give_Way',\n",
       "       'Junction', 'No_Exit', 'Railway', 'Roundabout', 'Station', 'Stop',\n",
       "       'Traffic_Calming', 'Traffic_Signal', 'Sunrise_Sunset'],\n",
       "      dtype='object')"
      ]
     },
     "execution_count": 11,
     "metadata": {},
     "output_type": "execute_result"
    }
   ],
   "source": [
    "columns"
   ]
  },
  {
   "cell_type": "code",
   "execution_count": 12,
   "metadata": {},
   "outputs": [
    {
     "data": {
      "text/plain": [
       "TMC                  1034799\n",
       "Severity                   0\n",
       "Distance(mi)               0\n",
       "Side                       0\n",
       "State                      0\n",
       "Temperature(F)         65732\n",
       "Wind_Chill(F)        1868249\n",
       "Humidity(%)            69687\n",
       "Pressure(in)           55882\n",
       "Visibility(mi)         75856\n",
       "Wind_Direction         58874\n",
       "Wind_Speed(mph)       454609\n",
       "Precipitation(in)    2025874\n",
       "Weather_Condition      76138\n",
       "Amenity                    0\n",
       "Bump                       0\n",
       "Crossing                   0\n",
       "Give_Way                   0\n",
       "Junction                   0\n",
       "No_Exit                    0\n",
       "Railway                    0\n",
       "Roundabout                 0\n",
       "Station                    0\n",
       "Stop                       0\n",
       "Traffic_Calming            0\n",
       "Traffic_Signal             0\n",
       "Sunrise_Sunset           115\n",
       "dtype: int64"
      ]
     },
     "execution_count": 12,
     "metadata": {},
     "output_type": "execute_result"
    }
   ],
   "source": [
    "new_df.isnull().sum()"
   ]
  },
  {
   "cell_type": "markdown",
   "metadata": {},
   "source": [
    "Weather_Timestamp and Weather_Condition can't be interpolate so better to eliminate rows having missing values"
   ]
  },
  {
   "cell_type": "code",
   "execution_count": 13,
   "metadata": {},
   "outputs": [],
   "source": [
    "#new_df=new_df[~new_df.Weather_Timestamp.isnull()]\n",
    "new_df=new_df[~new_df.Weather_Condition.isnull()]"
   ]
  },
  {
   "cell_type": "code",
   "execution_count": 14,
   "metadata": {},
   "outputs": [
    {
     "data": {
      "text/plain": [
       "(27,)"
      ]
     },
     "execution_count": 14,
     "metadata": {},
     "output_type": "execute_result"
    }
   ],
   "source": [
    "new_df.columns.shape"
   ]
  },
  {
   "cell_type": "code",
   "execution_count": 15,
   "metadata": {},
   "outputs": [],
   "source": [
    "#Side having one missing value which was eliminated\n",
    "index_drop=new_df[new_df['Side']==' '].index\n",
    "new_df.drop(index_drop,inplace=True)"
   ]
  },
  {
   "cell_type": "code",
   "execution_count": 41,
   "metadata": {},
   "outputs": [],
   "source": [
    "new = new_df.interpolate()"
   ]
  },
  {
   "cell_type": "code",
   "execution_count": 42,
   "metadata": {},
   "outputs": [],
   "source": [
    "new = new.fillna(method='bfill')"
   ]
  },
  {
   "cell_type": "code",
   "execution_count": 18,
   "metadata": {},
   "outputs": [],
   "source": [
    "#sns.heatmap(new.isnull(),yticklabels=False,cbar=False,cmap='crest')"
   ]
  },
  {
   "cell_type": "code",
   "execution_count": 19,
   "metadata": {},
   "outputs": [
    {
     "data": {
      "text/plain": [
       "TMC                  0\n",
       "Severity             0\n",
       "Distance(mi)         0\n",
       "Side                 0\n",
       "State                0\n",
       "Temperature(F)       0\n",
       "Wind_Chill(F)        0\n",
       "Humidity(%)          0\n",
       "Pressure(in)         0\n",
       "Visibility(mi)       0\n",
       "Wind_Direction       0\n",
       "Wind_Speed(mph)      0\n",
       "Precipitation(in)    0\n",
       "Weather_Condition    0\n",
       "Amenity              0\n",
       "Bump                 0\n",
       "Crossing             0\n",
       "Give_Way             0\n",
       "Junction             0\n",
       "No_Exit              0\n",
       "Railway              0\n",
       "Roundabout           0\n",
       "Station              0\n",
       "Stop                 0\n",
       "Traffic_Calming      0\n",
       "Traffic_Signal       0\n",
       "Sunrise_Sunset       0\n",
       "dtype: int64"
      ]
     },
     "execution_count": 19,
     "metadata": {},
     "output_type": "execute_result"
    }
   ],
   "source": [
    "new.isnull().sum()"
   ]
  },
  {
   "cell_type": "code",
   "execution_count": 20,
   "metadata": {},
   "outputs": [
    {
     "data": {
      "text/plain": [
       "array(['Light Rain', 'Overcast', 'Mostly Cloudy', 'Rain', 'Light Snow',\n",
       "       'Haze', 'Scattered Clouds', 'Partly Cloudy', 'Clear', 'Snow',\n",
       "       'Light Freezing Drizzle', 'Light Drizzle', 'Fog', 'Shallow Fog',\n",
       "       'Heavy Rain', 'Light Freezing Rain', 'Cloudy', 'Drizzle',\n",
       "       'Light Rain Showers', 'Mist', 'Smoke', 'Patches of Fog',\n",
       "       'Light Freezing Fog', 'Light Haze', 'Light Thunderstorms and Rain',\n",
       "       'Thunderstorms and Rain', 'Fair', 'Volcanic Ash', 'Blowing Sand',\n",
       "       'Blowing Dust / Windy', 'Widespread Dust', 'Fair / Windy',\n",
       "       'Rain Showers', 'Mostly Cloudy / Windy', 'Light Rain / Windy',\n",
       "       'Hail', 'Heavy Drizzle', 'Showers in the Vicinity', 'Thunderstorm',\n",
       "       'Light Rain Shower', 'Light Rain with Thunder',\n",
       "       'Partly Cloudy / Windy', 'Thunder in the Vicinity', 'T-Storm',\n",
       "       'Heavy Thunderstorms and Rain', 'Thunder', 'Heavy T-Storm',\n",
       "       'Funnel Cloud', 'Heavy T-Storm / Windy', 'Blowing Snow',\n",
       "       'Light Thunderstorms and Snow', 'Heavy Snow', 'Low Drifting Snow',\n",
       "       'Light Ice Pellets', 'Ice Pellets', 'Squalls', 'N/A Precipitation',\n",
       "       'Cloudy / Windy', 'Light Fog', 'Sand', 'Snow Grains',\n",
       "       'Snow Showers', 'Heavy Thunderstorms and Snow', 'Rain / Windy',\n",
       "       'Heavy Rain / Windy', 'Heavy Ice Pellets', 'Light Snow / Windy',\n",
       "       'Heavy Freezing Rain', 'Small Hail', 'Heavy Rain Showers',\n",
       "       'T-Storm / Windy', 'Patches of Fog / Windy', 'Drizzle / Windy',\n",
       "       'Thunder / Windy', 'Wintry Mix', 'Squalls / Windy', 'Rain Shower',\n",
       "       'Drizzle and Fog', 'Haze / Windy', 'Sand / Dust Whirlwinds',\n",
       "       'Blowing Dust', 'Fog / Windy', 'Smoke / Windy',\n",
       "       'Wintry Mix / Windy', 'Snow / Windy', 'Light Rain Shower / Windy',\n",
       "       'Heavy Snow / Windy', 'Snow and Sleet',\n",
       "       'Light Freezing Rain / Windy', 'Light Drizzle / Windy',\n",
       "       'Light Snow and Sleet', 'Partial Fog', 'Light Snow Shower',\n",
       "       'Light Snow and Sleet / Windy', 'Freezing Rain',\n",
       "       'Blowing Snow / Windy', 'Freezing Drizzle', 'Sleet', 'Light Sleet',\n",
       "       'Rain and Sleet', 'Heavy Sleet', 'Light Snow Grains',\n",
       "       'Partial Fog / Windy', 'Light Snow with Thunder',\n",
       "       'Widespread Dust / Windy', 'Sand / Dust Whirlwinds / Windy',\n",
       "       'Tornado', 'Snow and Thunder', 'Snow and Sleet / Windy',\n",
       "       'Heavy Snow with Thunder', 'Thunder / Wintry Mix / Windy',\n",
       "       'Light Snow Showers', 'Heavy Blowing Snow', 'Light Hail',\n",
       "       'Heavy Smoke', 'Heavy Thunderstorms with Small Hail',\n",
       "       'Light Thunderstorm', 'Heavy Freezing Drizzle',\n",
       "       'Light Blowing Snow', 'Thunderstorms and Snow',\n",
       "       'Freezing Rain / Windy', 'Dust Whirls',\n",
       "       'Sand / Dust Whirls Nearby', 'Heavy Rain Shower',\n",
       "       'Thunder and Hail', 'Drifting Snow', 'Thunder and Hail / Windy'],\n",
       "      dtype=object)"
      ]
     },
     "execution_count": 20,
     "metadata": {},
     "output_type": "execute_result"
    }
   ],
   "source": [
    "new_df.Weather_Condition.unique()"
   ]
  },
  {
   "cell_type": "markdown",
   "metadata": {},
   "source": [
    "Weather_Condition columns had so many different values which were needed to classify which were classify depend on the condition"
   ]
  },
  {
   "cell_type": "code",
   "execution_count": 21,
   "metadata": {},
   "outputs": [
    {
     "name": "stdout",
     "output_type": "stream",
     "text": [
      "['Rain' 'Cloudy' 'Snow' 'Fog' 'Clear' 'Dusty' 'Windy' 'Hail'\n",
      " 'Thunderstorm']\n"
     ]
    },
    {
     "data": {
      "text/plain": [
       "9"
      ]
     },
     "execution_count": 21,
     "metadata": {},
     "output_type": "execute_result"
    }
   ],
   "source": [
    "new.loc[new['Weather_Condition'].str.contains('Snow'), 'Weather_Condition'] = 'Snow'\n",
    "new.loc[new['Weather_Condition'].str.contains('Rain'), 'Weather_Condition'] = 'Rain'\n",
    "new.loc[new['Weather_Condition'].str.contains('Drizzle'), 'Weather_Condition'] = 'Rain'\n",
    "new.loc[new['Weather_Condition'].str.contains('Overcast'), 'Weather_Condition'] = 'Rain'\n",
    "new.loc[new['Weather_Condition'].str.contains('Showers'), 'Weather_Condition'] = 'Rain'\n",
    "\n",
    "new.loc[new['Weather_Condition'].str.contains('Haze'), 'Weather_Condition'] = 'Fog'\n",
    "new.loc[new['Weather_Condition'].str.contains('Smoke'), 'Weather_Condition'] = 'Fog'\n",
    "new.loc[new['Weather_Condition'].str.contains('Mist'), 'Weather_Condition'] = 'Fog'\n",
    "new.loc[new['Weather_Condition'].str.contains('Fog'), 'Weather_Condition'] = 'Fog'\n",
    "\n",
    "\n",
    "new.loc[new['Weather_Condition'].str.contains('T-Storm'), 'Weather_Condition'] = 'Thunderstorm'\n",
    "new.loc[new['Weather_Condition'].str.contains('Storm'), 'Weather_Condition'] = 'Thunderstorm'\n",
    "new.loc[new['Weather_Condition'].str.contains('Thunder'), 'Weather_Condition'] = 'Thunderstorm'\n",
    "new.loc[new['Weather_Condition'].str.contains('Tornado'), 'Weather_Condition'] = 'Thunderstorm'\n",
    "\n",
    "new.loc[new['Weather_Condition'].str.contains('Dust'), 'Weather_Condition'] = 'Dusty'\n",
    "new.loc[new['Weather_Condition'].str.contains('Sand'), 'Weather_Condition'] = 'Dusty'\n",
    "new.loc[new['Weather_Condition'].str.contains('Sand'), 'Weather_Condition'] = 'Dusty'\n",
    "new.loc[new['Weather_Condition'].str.contains('Whirl'), 'Weather_Condition'] = 'Dusty'\n",
    "new.loc[new['Weather_Condition'].str.contains('Volcanic'), 'Weather_Condition'] = 'Dusty'\n",
    "\n",
    "\n",
    "new.loc[new['Weather_Condition'].str.contains('Ice'), 'Weather_Condition'] = 'Hail'\n",
    "new.loc[new['Weather_Condition'].str.contains('Hail'), 'Weather_Condition'] = 'Hail'\n",
    "new.loc[new['Weather_Condition'].str.contains('Precipitation'), 'Weather_Condition'] = 'Hail'\n",
    "\n",
    "new.loc[new['Weather_Condition'].str.contains('Sleet'), 'Weather_Condition'] = 'Windy'\n",
    "new.loc[new['Weather_Condition'].str.contains('Wind'), 'Weather_Condition'] = 'Windy'\n",
    "new.loc[new['Weather_Condition'].str.contains('Squalls'), 'Weather_Condition'] = 'Windy'\n",
    "\n",
    "new.loc[new['Weather_Condition'].str.contains('Cloudy'), 'Weather_Condition'] = 'Cloudy'\n",
    "new.loc[new['Weather_Condition'].str.contains('Wintry'), 'Weather_Condition'] = 'Cloudy'\n",
    "new.loc[new['Weather_Condition'].str.contains('Clouds'), 'Weather_Condition'] = 'Cloudy'\n",
    "new.loc[new['Weather_Condition'].str.contains('Cloud'), 'Weather_Condition'] = 'Cloudy'\n",
    "\n",
    "\n",
    "new.loc[new['Weather_Condition'].str.contains('Clear'), 'Weather_Condition'] = 'Clear'\n",
    "new.loc[new['Weather_Condition'].str.contains('Fair'), 'Weather_Condition'] = 'Clear'\n",
    "\n",
    "\n",
    "\n",
    "print(new['Weather_Condition'].unique())\n",
    "new['Weather_Condition'].nunique()"
   ]
  },
  {
   "cell_type": "code",
   "execution_count": 22,
   "metadata": {},
   "outputs": [],
   "source": [
    "new[['Wind_Direction']]=new[['Wind_Direction']].replace({'CALM':'Calm','E':'East','N':'North','W':'West','S':'South','VAR':'Variable','NE':'NorthEast'})"
   ]
  },
  {
   "cell_type": "code",
   "execution_count": 23,
   "metadata": {},
   "outputs": [
    {
     "data": {
      "text/plain": [
       "array(['Calm', 'SW', 'SSW', 'WSW', 'WNW', 'NW', 'West', 'NNW', 'NNE',\n",
       "       'South', 'North', 'Variable', 'SE', 'SSE', 'ESE', 'East',\n",
       "       'NorthEast', 'ENE'], dtype=object)"
      ]
     },
     "execution_count": 23,
     "metadata": {},
     "output_type": "execute_result"
    }
   ],
   "source": [
    "new.Wind_Direction.unique()"
   ]
  },
  {
   "cell_type": "code",
   "execution_count": 24,
   "metadata": {},
   "outputs": [],
   "source": [
    "new = new.sample(frac=1, random_state=482).reset_index(drop=True)"
   ]
  },
  {
   "cell_type": "code",
   "execution_count": 40,
   "metadata": {},
   "outputs": [
    {
     "name": "stdout",
     "output_type": "stream",
     "text": [
      "<class 'pandas.core.frame.DataFrame'>\n",
      "RangeIndex: 3437478 entries, 0 to 3437477\n",
      "Data columns (total 27 columns):\n",
      " #   Column             Dtype  \n",
      "---  ------             -----  \n",
      " 0   TMC                float64\n",
      " 1   Severity           int64  \n",
      " 2   Distance(mi)       float64\n",
      " 3   Side               object \n",
      " 4   State              object \n",
      " 5   Temperature(F)     float64\n",
      " 6   Wind_Chill(F)      float64\n",
      " 7   Humidity(%)        float64\n",
      " 8   Pressure(in)       float64\n",
      " 9   Visibility(mi)     float64\n",
      " 10  Wind_Direction     object \n",
      " 11  Wind_Speed(mph)    float64\n",
      " 12  Precipitation(in)  float64\n",
      " 13  Weather_Condition  object \n",
      " 14  Sunrise_Sunset     object \n",
      " 15  Amenity            float32\n",
      " 16  Bump               float32\n",
      " 17  Crossing           float32\n",
      " 18  Give_Way           float32\n",
      " 19  Junction           float32\n",
      " 20  No_Exit            float32\n",
      " 21  Railway            float32\n",
      " 22  Roundabout         float32\n",
      " 23  Station            float32\n",
      " 24  Stop               float32\n",
      " 25  Traffic_Calming    float32\n",
      " 26  Traffic_Signal     float32\n",
      "dtypes: float32(12), float64(9), int64(1), object(5)\n",
      "memory usage: 550.7+ MB\n"
     ]
    }
   ],
   "source": [
    "new.info()"
   ]
  },
  {
   "cell_type": "markdown",
   "metadata": {},
   "source": [
    "Columns having bool values converetd to float to process data"
   ]
  },
  {
   "cell_type": "code",
   "execution_count": 26,
   "metadata": {},
   "outputs": [],
   "source": [
    "float_value=new[['Amenity','Bump','Crossing','Give_Way','Junction','No_Exit','Railway','Roundabout','Station','Stop','Traffic_Calming','Traffic_Signal']].astype('float32')\n",
    "\n",
    "new=new.drop(['Amenity','Bump','Crossing','Give_Way','Junction','No_Exit','Railway','Roundabout','Station','Stop','Traffic_Calming','Traffic_Signal'],axis=1)\n",
    "\n",
    "new=pd.concat((new,float_value),axis=1)"
   ]
  },
  {
   "cell_type": "markdown",
   "metadata": {},
   "source": [
    "Columns having Catogorical values converted into numerical values using pandas dummy function"
   ]
  },
  {
   "cell_type": "code",
   "execution_count": 27,
   "metadata": {},
   "outputs": [],
   "source": [
    "side_dummy=pd.get_dummies(new.Side).drop('L',axis=1)\n",
    "\n",
    "Wind_Direction_dummy=pd.get_dummies(new.Wind_Direction).drop('West',axis=1)\n",
    "\n",
    "Weather_Condition_dummy=pd.get_dummies(new.Weather_Condition).drop('Windy',axis=1)\n",
    "\n",
    "Sunrise_Sunset_dummy=pd.get_dummies(new.Sunrise_Sunset).drop('Night',axis=1)\n",
    "\n",
    "State_dummy=pd.get_dummies(new.State).drop('WY',axis=1)\n",
    "\n",
    "new_dummies=new.drop(['Side','Wind_Direction','Weather_Condition','Sunrise_Sunset','State'],axis=1)"
   ]
  },
  {
   "cell_type": "code",
   "execution_count": 28,
   "metadata": {},
   "outputs": [],
   "source": [
    "new_concat=pd.concat([new_dummies,side_dummy,Wind_Direction_dummy,Weather_Condition_dummy,Sunrise_Sunset_dummy,State_dummy],axis=1)"
   ]
  },
  {
   "cell_type": "markdown",
   "metadata": {},
   "source": [
    "### Combining lables to reduce inbalance classes"
   ]
  },
  {
   "cell_type": "code",
   "execution_count": 29,
   "metadata": {},
   "outputs": [
    {
     "name": "stdout",
     "output_type": "stream",
     "text": [
      "Severity    object\n",
      "dtype: object\n",
      "Severity    float32\n",
      "dtype: object\n"
     ]
    }
   ],
   "source": [
    "labels = new_concat[['Severity']]\n",
    "labels = labels.astype(str)\n",
    "print(labels.dtypes)\n",
    "labels.loc[labels['Severity'].str.contains('1'), 'Severity'] = '0'\n",
    "labels.loc[labels['Severity'].str.contains('2'), 'Severity'] = '0'\n",
    "labels.loc[labels['Severity'].str.contains('3'), 'Severity'] = '1'\n",
    "labels.loc[labels['Severity'].str.contains('4'), 'Severity'] = '1'\n",
    "\n",
    "labels = labels.astype('float32')\n",
    "print(labels.dtypes)"
   ]
  },
  {
   "cell_type": "code",
   "execution_count": 30,
   "metadata": {},
   "outputs": [],
   "source": [
    "data=new_concat.sample(100000)\n",
    "data[['Severity']]=labels\n",
    "X=data.drop('Severity',axis=1)\n",
    "y=data[['Severity']]"
   ]
  },
  {
   "cell_type": "code",
   "execution_count": 31,
   "metadata": {},
   "outputs": [
    {
     "data": {
      "text/plain": [
       "2    2325533\n",
       "3     974279\n",
       "4     108897\n",
       "1      28769\n",
       "Name: Severity, dtype: int64"
      ]
     },
     "execution_count": 31,
     "metadata": {},
     "output_type": "execute_result"
    }
   ],
   "source": [
    "new_concat.Severity.value_counts()"
   ]
  },
  {
   "cell_type": "code",
   "execution_count": 32,
   "metadata": {},
   "outputs": [],
   "source": [
    "from sklearn.model_selection import train_test_split"
   ]
  },
  {
   "cell_type": "code",
   "execution_count": 33,
   "metadata": {},
   "outputs": [],
   "source": [
    "x_train,x_test,y_train,y_test=train_test_split(X,y,test_size=0.3,random_state=42)"
   ]
  },
  {
   "cell_type": "code",
   "execution_count": 34,
   "metadata": {},
   "outputs": [],
   "source": [
    "train_set=pd.DataFrame(y_train.Severity.value_counts()).rename(columns={'Severity':'Train'})\n",
    "test_set=pd.DataFrame(y_test.Severity.value_counts()).rename(columns={'Severity':'Test'})\n",
    "data_set=pd.DataFrame(data.Severity.value_counts()).rename(columns={'Severity':'Total'})"
   ]
  },
  {
   "cell_type": "code",
   "execution_count": 35,
   "metadata": {},
   "outputs": [],
   "source": [
    "data_label=pd.concat([data_set,train_set,test_set],axis=1).reset_index()"
   ]
  },
  {
   "cell_type": "code",
   "execution_count": 36,
   "metadata": {},
   "outputs": [
    {
     "data": {
      "text/html": [
       "<div>\n",
       "<style scoped>\n",
       "    .dataframe tbody tr th:only-of-type {\n",
       "        vertical-align: middle;\n",
       "    }\n",
       "\n",
       "    .dataframe tbody tr th {\n",
       "        vertical-align: top;\n",
       "    }\n",
       "\n",
       "    .dataframe thead th {\n",
       "        text-align: right;\n",
       "    }\n",
       "</style>\n",
       "<table border=\"1\" class=\"dataframe\">\n",
       "  <thead>\n",
       "    <tr style=\"text-align: right;\">\n",
       "      <th></th>\n",
       "      <th>Labels</th>\n",
       "      <th>Total</th>\n",
       "      <th>Train</th>\n",
       "      <th>Test</th>\n",
       "    </tr>\n",
       "  </thead>\n",
       "  <tbody>\n",
       "    <tr>\n",
       "      <th>0</th>\n",
       "      <td>0.0</td>\n",
       "      <td>68523</td>\n",
       "      <td>47939</td>\n",
       "      <td>20584</td>\n",
       "    </tr>\n",
       "    <tr>\n",
       "      <th>1</th>\n",
       "      <td>1.0</td>\n",
       "      <td>31477</td>\n",
       "      <td>22061</td>\n",
       "      <td>9416</td>\n",
       "    </tr>\n",
       "  </tbody>\n",
       "</table>\n",
       "</div>"
      ],
      "text/plain": [
       "   Labels  Total  Train   Test\n",
       "0     0.0  68523  47939  20584\n",
       "1     1.0  31477  22061   9416"
      ]
     },
     "execution_count": 36,
     "metadata": {},
     "output_type": "execute_result"
    }
   ],
   "source": [
    "data_label.rename(columns={'index':'Labels'},inplace=True)\n",
    "data_label"
   ]
  },
  {
   "cell_type": "code",
   "execution_count": 37,
   "metadata": {},
   "outputs": [],
   "source": [
    "import warnings\n",
    "warnings.filterwarnings(\"ignore\")"
   ]
  },
  {
   "cell_type": "code",
   "execution_count": 38,
   "metadata": {},
   "outputs": [],
   "source": [
    "def accuracy(y,y_hat):\n",
    "    y=np.array(y)\n",
    "    y_hat=np.array(y_hat)\n",
    "    count=0\n",
    "    for i in range(len(y)):\n",
    "        if y[i]==y_hat[i]:\n",
    "            count+=1\n",
    "    return (count/len(y))*100"
   ]
  },
  {
   "cell_type": "markdown",
   "metadata": {},
   "source": [
    "## Logistic Regression with all features"
   ]
  },
  {
   "cell_type": "code",
   "execution_count": 39,
   "metadata": {},
   "outputs": [],
   "source": [
    "logreg=LogisticRegression(C=0.1, solver='liblinear')\n",
    "import time"
   ]
  },
  {
   "cell_type": "code",
   "execution_count": 40,
   "metadata": {},
   "outputs": [
    {
     "name": "stdout",
     "output_type": "stream",
     "text": [
      "Accuracy by Logistic Regression: 72.31666666666666 %\n",
      "Time: 0.7439188957214355\n"
     ]
    }
   ],
   "source": [
    "start=time.time()\n",
    "logreg.fit(x_train,y_train)\n",
    "predict=logreg.predict(x_test)\n",
    "print('Accuracy by Logistic Regression:',accuracy(predict,y_test),'%')\n",
    "stop=time.time()\n",
    "print('Time:',stop-start)"
   ]
  },
  {
   "cell_type": "code",
   "execution_count": 41,
   "metadata": {},
   "outputs": [],
   "source": [
    "def mypca(x,k):\n",
    "    \n",
    "    x_mean=np.mean(x,axis=0)\n",
    "    \n",
    "    x_normalised=x-x_mean\n",
    "    \n",
    "    l=np.dot(x_normalised.T,x_normalised)\n",
    "    \n",
    "    values,vectors=np.linalg.eigh(l)\n",
    "    \n",
    "    sort_values=(np.argsort(values))[:k]\n",
    "    \n",
    "    vectors=vectors[:,sort_values]\n",
    "    \n",
    "    cov_matrix=np.dot(x_normalised,vectors)\n",
    "    \n",
    "    reconstructed_data=np.dot(cov_matrix,vectors.T) \n",
    "    reconstruction=[]\n",
    "    for i in range(len(x_mean)):\n",
    "        recontruction_data=reconstructed_data[:,i]+x_mean[i]\n",
    "        reconstruction.append(recontruction_data)\n",
    "    pca_reconstruction=np.array(reconstruction).T\n",
    "    \n",
    "    return cov_matrix,sort_values"
   ]
  },
  {
   "cell_type": "code",
   "execution_count": 42,
   "metadata": {},
   "outputs": [],
   "source": [
    "pca_train,index=mypca(x_train,15)\n",
    "pca_test,index=mypca(x_test,15)"
   ]
  },
  {
   "cell_type": "markdown",
   "metadata": {},
   "source": [
    "### Fitting model"
   ]
  },
  {
   "cell_type": "code",
   "execution_count": 43,
   "metadata": {},
   "outputs": [
    {
     "name": "stdout",
     "output_type": "stream",
     "text": [
      "Accuracy by Logistic Regression with PCA: 68.56333333333333 %\n",
      "Time: 0.09394979476928711\n"
     ]
    }
   ],
   "source": [
    "logreg_=LogisticRegression(C=0.1, solver='liblinear')\n",
    "start=time.time()\n",
    "logreg_.fit(pca_train,y_train)\n",
    "predict_pca=logreg_.predict(pca_test)\n",
    "print('Accuracy by Logistic Regression with PCA:',accuracy(predict_pca,y_test),'%')\n",
    "stop=time.time()\n",
    "print('Time:',stop-start)"
   ]
  },
  {
   "cell_type": "code",
   "execution_count": 44,
   "metadata": {},
   "outputs": [],
   "source": [
    "from sklearn.metrics import f1_score\n",
    "from sklearn.metrics import classification_report"
   ]
  },
  {
   "cell_type": "markdown",
   "metadata": {},
   "source": [
    "#### F1 Score"
   ]
  },
  {
   "cell_type": "code",
   "execution_count": 45,
   "metadata": {},
   "outputs": [
    {
     "name": "stdout",
     "output_type": "stream",
     "text": [
      "F1 Score: [0.81813205 0.42064876]\n"
     ]
    }
   ],
   "source": [
    "print('F1 Score:',f1_score(y_test,predict,average=None))"
   ]
  },
  {
   "cell_type": "code",
   "execution_count": 46,
   "metadata": {},
   "outputs": [
    {
     "name": "stdout",
     "output_type": "stream",
     "text": [
      "              precision    recall  f1-score   support\n",
      "\n",
      "         0.0       0.74      0.91      0.82     20569\n",
      "         1.0       0.61      0.32      0.42      9431\n",
      "\n",
      "    accuracy                           0.72     30000\n",
      "   macro avg       0.68      0.61      0.62     30000\n",
      "weighted avg       0.70      0.72      0.69     30000\n",
      "\n"
     ]
    }
   ],
   "source": [
    "print(classification_report(y_test,predict))"
   ]
  },
  {
   "cell_type": "code",
   "execution_count": 47,
   "metadata": {},
   "outputs": [
    {
     "data": {
      "text/plain": [
       "array([[18680,  1889],\n",
       "       [ 6416,  3015]])"
      ]
     },
     "execution_count": 47,
     "metadata": {},
     "output_type": "execute_result"
    }
   ],
   "source": [
    "from sklearn.metrics import confusion_matrix\n",
    "confusion_matrix(y_test,predict)"
   ]
  },
  {
   "cell_type": "markdown",
   "metadata": {},
   "source": [
    "### Confusion Matrix"
   ]
  },
  {
   "cell_type": "code",
   "execution_count": 48,
   "metadata": {},
   "outputs": [
    {
     "name": "stdout",
     "output_type": "stream",
     "text": [
      "[[18680  1889]\n",
      " [ 6416  3015]]\n"
     ]
    }
   ],
   "source": [
    "from sklearn.metrics import classification_report, confusion_matrix\n",
    "import itertools\n",
    "def plot_confusion_matrix(cm, classes,\n",
    "                          normalize=False,\n",
    "                          title='Confusion matrix',\n",
    "                          cmap=plt.cm.Blues):\n",
    "    \"\"\"\n",
    "    This function prints and plots the confusion matrix.\n",
    "    Normalization can be applied by setting `normalize=True`.\n",
    "    \"\"\"\n",
    "    if normalize:\n",
    "        cm = cm.astype('float') / cm.sum(axis=1)[:, np.newaxis]\n",
    "        print(\"Normalized confusion matrix\")\n",
    "    else:\n",
    "        print('Confusion matrix, without normalization')\n",
    "\n",
    "    print(cm)\n",
    "\n",
    "    plt.imshow(cm, interpolation='nearest', cmap=cmap)\n",
    "    plt.title(title)\n",
    "    plt.colorbar()\n",
    "    tick_marks = np.arange(len(classes))\n",
    "    plt.xticks(tick_marks, classes, rotation=45)\n",
    "    plt.yticks(tick_marks, classes)\n",
    "\n",
    "    fmt = '.2f' if normalize else 'd'\n",
    "    thresh = cm.max() / 2.\n",
    "    for i, j in itertools.product(range(cm.shape[0]), range(cm.shape[1])):\n",
    "        plt.text(j, i, format(cm[i, j], fmt),\n",
    "                 horizontalalignment=\"center\",\n",
    "                 color=\"white\" if cm[i, j] > thresh else \"black\")\n",
    "\n",
    "    plt.tight_layout()\n",
    "    plt.ylabel('True label')\n",
    "    plt.xlabel('Predicted label')\n",
    "print(confusion_matrix(y_test,predict))"
   ]
  },
  {
   "cell_type": "code",
   "execution_count": 49,
   "metadata": {},
   "outputs": [],
   "source": [
    "cnf_matrix = confusion_matrix(y_test,predict)"
   ]
  },
  {
   "cell_type": "code",
   "execution_count": 50,
   "metadata": {},
   "outputs": [
    {
     "name": "stdout",
     "output_type": "stream",
     "text": [
      "Confusion matrix, without normalization\n",
      "[[18680  1889]\n",
      " [ 6416  3015]]\n"
     ]
    },
    {
     "data": {
      "image/png": "[encoded data removed]",
      "text/plain": [
       "<Figure size 432x288 with 2 Axes>"
      ]
     },
     "metadata": {
      "needs_background": "light"
     },
     "output_type": "display_data"
    }
   ],
   "source": [
    "plt.figure()\n",
    "plot_confusion_matrix(cnf_matrix, classes=['Severity=1','Severity=0'],normalize= False,  title='Confusion matrix')"
   ]
  },
  {
   "cell_type": "markdown",
   "metadata": {},
   "source": [
    "### ROC Curve"
   ]
  },
  {
   "cell_type": "code",
   "execution_count": 51,
   "metadata": {},
   "outputs": [
    {
     "data": {
      "image/png": "[encoded data removed]",
      "text/plain": [
       "<Figure size 432x288 with 1 Axes>"
      ]
     },
     "metadata": {
      "needs_background": "light"
     },
     "output_type": "display_data"
    }
   ],
   "source": [
    "thresholds = np.linspace(1,0,30000)\n",
    "predict_=predict.reshape(len(predict),1)\n",
    "T = predict_\n",
    "\n",
    "Y = y_test\n",
    "\n",
    "ROC = np.zeros((30000,2))\n",
    "\n",
    "for i in range(101):\n",
    "    t = thresholds[i]\n",
    "\n",
    "    # Classifier / label agree and disagreements for current threshold.\n",
    "    TP_t = np.logical_and( T > t, Y==1 ).sum()\n",
    "    TN_t = np.logical_and( T <=t, Y==0 ).sum()\n",
    "    FP_t = np.logical_and( T > t, Y==0 ).sum()\n",
    "    FN_t = np.logical_and( T <=t, Y==1 ).sum()\n",
    "\n",
    "        \n",
    "    # Compute false positive rate for current threshold.\n",
    "    FPR_t = FP_t / float(FP_t + TN_t)\n",
    "    ROC[i,0] = FPR_t\n",
    "\n",
    "    # Compute true  positive rate for current threshold.\n",
    "    TPR_t = TP_t / float(TP_t + FN_t)\n",
    "    ROC[i,1] = TPR_t\n",
    "\n",
    "# Plot the ROC curve.\n",
    "#fig = plt.figure(figsize=(10,8))\n",
    "plt.plot(ROC[:,0], ROC[:,1])\n",
    "plt.xlim(-0.1,1.1)\n",
    "plt.ylim(-0.1,1.1)\n",
    "plt.xlabel('FPR(t)')\n",
    "plt.ylabel('TPR(t)')\n",
    "plt.grid()\n",
    "\n",
    "AUC = 0.\n",
    "for i in range(100):\n",
    "    AUC += (ROC[i+1,0]-ROC[i,0]) * (ROC[i+1,1]+ROC[i,1])\n",
    "AUC *= 0.5\n",
    "\n",
    "plt.title('ROC curve, AUC = %.6f'%AUC)\n",
    "plt.show()"
   ]
  },
  {
   "cell_type": "raw",
   "metadata": {},
   "source": [
    "def roc_curve(y,y_test):\n",
    "        tp=0\n",
    "        tn=0\n",
    "        fp=0\n",
    "        fn=0\n",
    "        for i in range(len(y)):\n",
    "            if y[i]==1 and y_test[i]==1:\n",
    "                tp+=1\n",
    "            else:\n",
    "             if y[i]==0 and y_test[i]==0:\n",
    "                 tn+=1   \n",
    "            if y[i]==1 and y_test[i]==0:\n",
    "                fp+=1\n",
    "            else:\n",
    "             if yd[i]==0 and y_test[i]==1:\n",
    "                fn+=1\n",
    "        precision=tp/(tp+fp)\n",
    "        recall=tp/(tp+fn)\n",
    "        f1_score=(2*precision*recall)/(precision+recall)\n",
    "        true_positive_rate=tp/(tp+fn)\n",
    "        false_positive_rate=fp/(fp+tn)\n",
    "        print('Precision: ',precision)\n",
    "        print('Recall: ',recall)\n",
    "        print('F1-Score: ',f1_score)\n",
    "        print('True Positive Rate: ',true_positive_rate)\n",
    "        print('False Positive Rate:',false_positive_rate)"
   ]
  },
  {
   "cell_type": "code",
   "execution_count": 52,
   "metadata": {},
   "outputs": [],
   "source": [
    "#roc_curve(y_test,predict)"
   ]
  },
  {
   "cell_type": "markdown",
   "metadata": {},
   "source": [
    "### ROC,AUC "
   ]
  },
  {
   "cell_type": "code",
   "execution_count": 53,
   "metadata": {},
   "outputs": [],
   "source": [
    "from sklearn.metrics import roc_curve, roc_auc_score,auc"
   ]
  },
  {
   "cell_type": "code",
   "execution_count": 54,
   "metadata": {},
   "outputs": [],
   "source": [
    "log_roc=roc_auc_score(y_test,predict)\n",
    "probability=logreg.predict_proba(x_test)[:,1]\n",
    "fpr,tpr,t=roc_curve(y_test,probability)"
   ]
  },
  {
   "cell_type": "code",
   "execution_count": 55,
   "metadata": {},
   "outputs": [
    {
     "data": {
      "image/png": "[encoded data removed]",
      "text/plain": [
       "<Figure size 432x288 with 1 Axes>"
      ]
     },
     "metadata": {
      "needs_background": "light"
     },
     "output_type": "display_data"
    }
   ],
   "source": [
    "plt.figure()\n",
    "plt.plot(fpr,tpr,label=\"Logistic Regression (AUC=%0.2f)\"%log_roc)\n",
    "plt.plot([0,1], [0,1],'r--')\n",
    "plt.xlim([-0.05, 1.05])\n",
    "plt.ylim([-0.05, 1.05])\n",
    "plt.xlabel('False Positive Rate')\n",
    "plt.ylabel('True Positive Rate')\n",
    "plt.legend(loc='lower right')\n",
    "plt.show()"
   ]
  },
  {
   "cell_type": "markdown",
   "metadata": {},
   "source": [
    "## SVM"
   ]
  },
  {
   "cell_type": "code",
   "execution_count": 56,
   "metadata": {},
   "outputs": [],
   "source": [
    "from sklearn.svm import SVC\n",
    "svm=SVC(kernel='linear')"
   ]
  },
  {
   "cell_type": "code",
   "execution_count": 57,
   "metadata": {},
   "outputs": [],
   "source": [
    "x_test=x_test.head(10000)\n",
    "y_test=y_test.head(10000)\n",
    "x_train_svm,x_test_svm,y_train_svm,y_test_svm=train_test_split(x_test,y_test,test_size=0.3,random_state=42)"
   ]
  },
  {
   "cell_type": "code",
   "execution_count": 58,
   "metadata": {},
   "outputs": [
    {
     "name": "stdout",
     "output_type": "stream",
     "text": [
      "Accuracy by SVM: 73.4 %\n",
      "Time: 31.740478992462158\n"
     ]
    }
   ],
   "source": [
    "start=time.time()\n",
    "svm.fit(x_train_svm,y_train_svm)\n",
    "predict_svm=svm.predict(x_test_svm)\n",
    "print('Accuracy by SVM:',accuracy(predict_svm,y_test_svm),'%')\n",
    "stop=time.time()\n",
    "print('Time:',stop-start)"
   ]
  },
  {
   "cell_type": "markdown",
   "metadata": {},
   "source": [
    "### Using PCA"
   ]
  },
  {
   "cell_type": "code",
   "execution_count": 59,
   "metadata": {},
   "outputs": [],
   "source": [
    "x_test_svm=pca_test[:10000]\n",
    "y_test_svm=y_test.head(10000)\n",
    "x_train_svm,x_test_svm,y_train_svm,y_test_svm=train_test_split(x_test,y_test,test_size=0.3,random_state=42)"
   ]
  },
  {
   "cell_type": "code",
   "execution_count": 60,
   "metadata": {},
   "outputs": [
    {
     "name": "stdout",
     "output_type": "stream",
     "text": [
      "Accuracy by SVM: 73.4 %\n",
      "Time: 32.01531219482422\n"
     ]
    }
   ],
   "source": [
    "start=time.time()\n",
    "svm.fit(x_train_svm,y_train_svm)\n",
    "predict_test_svm=svm.predict(x_test_svm)\n",
    "print('Accuracy by SVM:',accuracy(predict_test_svm,y_test_svm),'%')\n",
    "stop=time.time()\n",
    "print('Time:',stop-start)"
   ]
  },
  {
   "cell_type": "code",
   "execution_count": 61,
   "metadata": {},
   "outputs": [
    {
     "data": {
      "text/plain": [
       "array([[1958,  152],\n",
       "       [ 646,  244]])"
      ]
     },
     "execution_count": 61,
     "metadata": {},
     "output_type": "execute_result"
    }
   ],
   "source": [
    "confusion_matrix(y_test_svm,predict_svm)"
   ]
  },
  {
   "cell_type": "code",
   "execution_count": 62,
   "metadata": {},
   "outputs": [],
   "source": [
    "cnf_matrix = confusion_matrix(y_test_svm,predict_svm)"
   ]
  },
  {
   "cell_type": "code",
   "execution_count": 63,
   "metadata": {},
   "outputs": [
    {
     "name": "stdout",
     "output_type": "stream",
     "text": [
      "Confusion matrix, without normalization\n",
      "[[1958  152]\n",
      " [ 646  244]]\n"
     ]
    },
    {
     "data": {
      "image/png": "[encoded data removed]",
      "text/plain": [
       "<Figure size 432x288 with 2 Axes>"
      ]
     },
     "metadata": {
      "needs_background": "light"
     },
     "output_type": "display_data"
    }
   ],
   "source": [
    "plt.figure()\n",
    "plot_confusion_matrix(cnf_matrix, classes=['Severity=1','Severity=0'],normalize= False,  title='Confusion matrix')"
   ]
  },
  {
   "cell_type": "code",
   "execution_count": 64,
   "metadata": {},
   "outputs": [
    {
     "name": "stdout",
     "output_type": "stream",
     "text": [
      "F1 Score: [0.83071701 0.37947123]\n"
     ]
    }
   ],
   "source": [
    "print('F1 Score:',f1_score(y_test_svm,predict_svm,average=None))"
   ]
  },
  {
   "cell_type": "code",
   "execution_count": 65,
   "metadata": {},
   "outputs": [
    {
     "name": "stdout",
     "output_type": "stream",
     "text": [
      "              precision    recall  f1-score   support\n",
      "\n",
      "         0.0       0.75      0.93      0.83      2110\n",
      "         1.0       0.62      0.27      0.38       890\n",
      "\n",
      "    accuracy                           0.73      3000\n",
      "   macro avg       0.68      0.60      0.61      3000\n",
      "weighted avg       0.71      0.73      0.70      3000\n",
      "\n"
     ]
    }
   ],
   "source": [
    "print(classification_report(y_test_svm,predict_svm))"
   ]
  },
  {
   "cell_type": "code",
   "execution_count": 66,
   "metadata": {},
   "outputs": [
    {
     "data": {
      "text/plain": [
       "RandomForestClassifier(n_estimators=10)"
      ]
     },
     "execution_count": 66,
     "metadata": {},
     "output_type": "execute_result"
    }
   ],
   "source": [
    "from sklearn.ensemble import RandomForestClassifier\n",
    "model = RandomForestClassifier(n_estimators=10)\n",
    "model.fit(X,y)"
   ]
  },
  {
   "cell_type": "code",
   "execution_count": 67,
   "metadata": {},
   "outputs": [],
   "source": [
    "from sklearn.feature_selection import SelectFromModel\n",
    "sel = SelectFromModel(RandomForestClassifier(n_estimators=100))\n",
    "sel.fit(X,y)\n",
    "index = sel.get_support()\n",
    "X_feature = X[X.columns[index]]"
   ]
  },
  {
   "cell_type": "code",
   "execution_count": 68,
   "metadata": {},
   "outputs": [],
   "source": [
    "x_train,x_test,y_train,y_test=train_test_split(X_feature,y,test_size=0.3,random_state=42)"
   ]
  },
  {
   "cell_type": "code",
   "execution_count": 69,
   "metadata": {},
   "outputs": [
    {
     "data": {
      "text/plain": [
       "LogisticRegression(C=0.1, solver='liblinear')"
      ]
     },
     "execution_count": 69,
     "metadata": {},
     "output_type": "execute_result"
    }
   ],
   "source": [
    "logreg.fit(x_train,y_train)"
   ]
  },
  {
   "cell_type": "code",
   "execution_count": 70,
   "metadata": {},
   "outputs": [],
   "source": [
    "y_hat = logreg.predict(x_test)"
   ]
  },
  {
   "cell_type": "code",
   "execution_count": 71,
   "metadata": {},
   "outputs": [
    {
     "data": {
      "text/plain": [
       "71.22666666666667"
      ]
     },
     "execution_count": 71,
     "metadata": {},
     "output_type": "execute_result"
    }
   ],
   "source": [
    "accuracy(y_hat,y_test)"
   ]
  },
  {
   "cell_type": "code",
   "execution_count": 72,
   "metadata": {},
   "outputs": [],
   "source": [
    "#svm.fit(x_train,y_train)"
   ]
  },
  {
   "cell_type": "code",
   "execution_count": 73,
   "metadata": {},
   "outputs": [],
   "source": [
    "#y_hat = svm.predict(x_test)"
   ]
  },
  {
   "cell_type": "code",
   "execution_count": 74,
   "metadata": {},
   "outputs": [],
   "source": [
    "#accuracy(y_hat,y_test)"
   ]
  },
  {
   "cell_type": "code",
   "execution_count": 134,
   "metadata": {},
   "outputs": [],
   "source": [
    "data=new_concat.sample(100000)\n",
    "data[['Severity']]=labels\n",
    "X=data.drop('Severity',axis=1)\n",
    "y=data[['Severity']]"
   ]
  },
  {
   "cell_type": "code",
   "execution_count": 135,
   "metadata": {},
   "outputs": [],
   "source": [
    "import xgboost"
   ]
  },
  {
   "cell_type": "code",
   "execution_count": 136,
   "metadata": {},
   "outputs": [],
   "source": [
    "from xgboost import XGBClassifier"
   ]
  },
  {
   "cell_type": "code",
   "execution_count": 137,
   "metadata": {},
   "outputs": [],
   "source": [
    "from sklearn.datasets import make_classification"
   ]
  },
  {
   "cell_type": "code",
   "execution_count": 227,
   "metadata": {},
   "outputs": [],
   "source": [
    "x_train,x_test,y_train,y_test = train_test_split(X,y,test_size = 0.2,random_state = 200)"
   ]
  },
  {
   "cell_type": "code",
   "execution_count": 325,
   "metadata": {},
   "outputs": [],
   "source": [
    "model = XGBClassifier(learning_rate = 0.05, max_depth = 6,random_state = 1,n_estimators=10, subsample=1)"
   ]
  },
  {
   "cell_type": "code",
   "execution_count": null,
   "metadata": {},
   "outputs": [],
   "source": []
  },
  {
   "cell_type": "code",
   "execution_count": 326,
   "metadata": {},
   "outputs": [
    {
     "data": {
      "text/plain": [
       "XGBClassifier(base_score=0.5, booster='gbtree', colsample_bylevel=1,\n",
       "              colsample_bynode=1, colsample_bytree=1, gamma=0, gpu_id=-1,\n",
       "              importance_type='gain', interaction_constraints='',\n",
       "              learning_rate=0.05, max_delta_step=0, max_depth=6,\n",
       "              min_child_weight=1, missing=nan, monotone_constraints='()',\n",
       "              n_estimators=10, n_jobs=0, num_parallel_tree=1, random_state=1,\n",
       "              reg_alpha=0, reg_lambda=1, scale_pos_weight=1, subsample=1,\n",
       "              tree_method='exact', validate_parameters=1, verbosity=None)"
      ]
     },
     "execution_count": 326,
     "metadata": {},
     "output_type": "execute_result"
    }
   ],
   "source": [
    "model.fit(x_train,y_train)"
   ]
  },
  {
   "cell_type": "code",
   "execution_count": 327,
   "metadata": {},
   "outputs": [],
   "source": [
    "y_hat = model.predict(x_test)"
   ]
  },
  {
   "cell_type": "code",
   "execution_count": 328,
   "metadata": {},
   "outputs": [
    {
     "data": {
      "text/plain": [
       "72.455"
      ]
     },
     "execution_count": 328,
     "metadata": {},
     "output_type": "execute_result"
    }
   ],
   "source": [
    "accuracy(y_test,y_hat)"
   ]
  },
  {
   "cell_type": "code",
   "execution_count": 318,
   "metadata": {},
   "outputs": [],
   "source": [
    "#pd.crosstab(y_test,y_hat)"
   ]
  },
  {
   "cell_type": "code",
   "execution_count": 319,
   "metadata": {},
   "outputs": [
    {
     "data": {
      "text/plain": [
       "array([[12580,  1098],\n",
       "       [ 4411,  1911]])"
      ]
     },
     "execution_count": 319,
     "metadata": {},
     "output_type": "execute_result"
    }
   ],
   "source": [
    "confusion_matrix(y_test,y_hat)"
   ]
  },
  {
   "cell_type": "code",
   "execution_count": 320,
   "metadata": {},
   "outputs": [
    {
     "name": "stdout",
     "output_type": "stream",
     "text": [
      "              precision    recall  f1-score   support\n",
      "\n",
      "         0.0       0.74      0.92      0.82     13678\n",
      "         1.0       0.64      0.30      0.41      6322\n",
      "\n",
      "    accuracy                           0.72     20000\n",
      "   macro avg       0.69      0.61      0.61     20000\n",
      "weighted avg       0.71      0.72      0.69     20000\n",
      "\n"
     ]
    }
   ],
   "source": [
    "print(classification_report(y_test,y_hat))"
   ]
  }
 ],
 "metadata": {
  "kernelspec": {
   "display_name": "Python 3",
   "language": "python",
   "name": "python3"
  },
  "language_info": {
   "codemirror_mode": {
    "name": "ipython",
    "version": 3
   },
   "file_extension": ".py",
   "mimetype": "text/x-python",
   "name": "python",
   "nbconvert_exporter": "python",
   "pygments_lexer": "ipython3",
   "version": "3.7.9"
  }
 },
 "nbformat": 4,
 "nbformat_minor": 4
}
